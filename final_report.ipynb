{
 "cells": [
  {
   "cell_type": "code",
   "execution_count": 2,
   "id": "81f7b378",
   "metadata": {},
   "outputs": [],
   "source": [
    "# imports\n",
    "import warnings\n",
    "warnings.filterwarnings(\"ignore\")\n",
    "\n",
    "import pandas as pd\n",
    "import numpy as np\n",
    "import matplotlib.pyplot as plt\n",
    "import seaborn as sns\n",
    "from scipy import stats\n",
    "\n",
    "# sklearn imports\n",
    "from sklearn.model_selection import train_test_split\n",
    "# from sklearn.metrics import confusion_matrix, classification_report, accuracy_score\n",
    "\n",
    "# # tree classifier\n",
    "# from sklearn.model_selection import train_test_split\n",
    "# from sklearn.tree import DecisionTreeClassifier, plot_tree\n",
    "\n",
    "# # rainforest classifier\n",
    "# from sklearn.ensemble import RandomForestClassifier\n",
    "\n",
    "# # linear regession classifier\n",
    "# from sklearn.linear_model import LogisticRegression\n",
    "\n",
    "# # knn classifier\n",
    "# from sklearn.neighbors import KNeighborsClassifier\n",
    "import wrangle as w\n",
    "import explore as e\n",
    "import model as m"
   ]
  },
  {
   "cell_type": "markdown",
   "id": "127c0469",
   "metadata": {},
   "source": [
    "# Project Description\n",
    "The healthcare breach dataset is utilized in this project to find drivers for breach type. \n",
    "\n",
    "\n",
    "# Project Goal\n",
    "\n",
    "* Discover drivers of breach type in the healthcare breach dataset \n",
    "* Use drivers to develop a machine learning model to classify healthcare facilities with the probablity of a breach type.\n",
    "* Breach types are security incidents in which unauthorized parties gain access to sensitive data or confidential information.\n",
    "* This information could be used to further our understanding of which elements contribute to a breach types.\n",
    "\n",
    "# Initial Thoughts\n",
    "\n",
    "My initial hypothesis is that drivers of breaches will be elements such as state, entity_type, season, location, mulit-breach location\n",
    "\n",
    "# Acquire\n",
    "* Aquire dataset from [Data.World]( \n",
    "* It contained 7043 rows and 26 columns before cleaning\n",
    "* Each row represents a customer at Telco\n",
    "* Each column represents a feature of those customers"
   ]
  },
  {
   "cell_type": "code",
   "execution_count": null,
   "id": "bb1fd5a0",
   "metadata": {},
   "outputs": [],
   "source": []
  },
  {
   "cell_type": "code",
   "execution_count": null,
   "id": "1b197511",
   "metadata": {},
   "outputs": [],
   "source": []
  }
 ],
 "metadata": {
  "kernelspec": {
   "display_name": "Python 3 (ipykernel)",
   "language": "python",
   "name": "python3"
  },
  "language_info": {
   "codemirror_mode": {
    "name": "ipython",
    "version": 3
   },
   "file_extension": ".py",
   "mimetype": "text/x-python",
   "name": "python",
   "nbconvert_exporter": "python",
   "pygments_lexer": "ipython3",
   "version": "3.9.13"
  }
 },
 "nbformat": 4,
 "nbformat_minor": 5
}
