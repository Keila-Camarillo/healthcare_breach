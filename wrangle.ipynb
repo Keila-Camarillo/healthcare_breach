{
 "cells": [
  {
   "cell_type": "code",
   "execution_count": 1,
   "id": "4f4243b4",
   "metadata": {},
   "outputs": [],
   "source": [
    "import pandas as pd \n",
    "from sklearn.model_selection import train_test_split\n",
    "import wrangle as w"
   ]
  },
  {
   "cell_type": "markdown",
   "id": "ecf478a3",
   "metadata": {},
   "source": [
    "* Outline your goals and define deliverables.\n",
    "\n",
    "- the goal is to create a classification model that will be able to predict the breach type based on the feature provided/ created\n",
    "\n",
    "- jupyter notebook \n",
    "\n",
    "* Document initial thoughts and hypotheses.\n",
    "\n",
    "- My initials thoughts are to create additional columns from the time and location to create more direct features. My hypothesis is that the location and time will be able to predict the type of breach."
   ]
  },
  {
   "cell_type": "code",
   "execution_count": 17,
   "id": "a4c00bfa",
   "metadata": {},
   "outputs": [],
   "source": [
    "# retrieve previously downloaded csv\n",
    "df = pd.read_csv('breach_report.csv') "
   ]
  },
  {
   "cell_type": "code",
   "execution_count": 18,
   "id": "56de319d",
   "metadata": {},
   "outputs": [
    {
     "name": "stdout",
     "output_type": "stream",
     "text": [
      "<class 'pandas.core.frame.DataFrame'>\n",
      "RangeIndex: 867 entries, 0 to 866\n",
      "Data columns (total 9 columns):\n",
      " #   Column                            Non-Null Count  Dtype  \n",
      "---  ------                            --------------  -----  \n",
      " 0   Name of Covered Entity            867 non-null    object \n",
      " 1   State                             864 non-null    object \n",
      " 2   Covered Entity Type               867 non-null    object \n",
      " 3   Individuals Affected              867 non-null    int64  \n",
      " 4   Breach Submission Date            867 non-null    object \n",
      " 5   Type of Breach                    867 non-null    object \n",
      " 6   Location of Breached Information  867 non-null    object \n",
      " 7   Business Associate Present        867 non-null    object \n",
      " 8   Web Description                   0 non-null      float64\n",
      "dtypes: float64(1), int64(1), object(7)\n",
      "memory usage: 61.1+ KB\n"
     ]
    }
   ],
   "source": [
    "# look for nulls\n",
    "df.info()"
   ]
  },
  {
   "cell_type": "code",
   "execution_count": 19,
   "id": "c75b2b66",
   "metadata": {},
   "outputs": [
    {
     "data": {
      "text/plain": [
       "Name of Covered Entity                0\n",
       "State                                 3\n",
       "Covered Entity Type                   0\n",
       "Individuals Affected                  0\n",
       "Breach Submission Date                0\n",
       "Type of Breach                        0\n",
       "Location of Breached Information      0\n",
       "Business Associate Present            0\n",
       "Web Description                     867\n",
       "dtype: int64"
      ]
     },
     "execution_count": 19,
     "metadata": {},
     "output_type": "execute_result"
    }
   ],
   "source": [
    "df.isnull().sum()"
   ]
  },
  {
   "cell_type": "markdown",
   "id": "0b739104",
   "metadata": {},
   "source": [
    "* three nulls are found in states \n",
    "* Web description will be dropped "
   ]
  },
  {
   "cell_type": "code",
   "execution_count": 25,
   "id": "9b7d1448",
   "metadata": {},
   "outputs": [
    {
     "data": {
      "text/plain": [
       "0      CA\n",
       "1      IA\n",
       "2      PA\n",
       "3      MA\n",
       "4      IA\n",
       "       ..\n",
       "862    WI\n",
       "863    MI\n",
       "864    OH\n",
       "865    TX\n",
       "866    MA\n",
       "Name: State, Length: 867, dtype: object"
      ]
     },
     "execution_count": 25,
     "metadata": {},
     "output_type": "execute_result"
    }
   ],
   "source": [
    "df.State"
   ]
  },
  {
   "cell_type": "code",
   "execution_count": 26,
   "id": "3f5617d7",
   "metadata": {},
   "outputs": [
    {
     "data": {
      "text/html": [
       "<div>\n",
       "<style scoped>\n",
       "    .dataframe tbody tr th:only-of-type {\n",
       "        vertical-align: middle;\n",
       "    }\n",
       "\n",
       "    .dataframe tbody tr th {\n",
       "        vertical-align: top;\n",
       "    }\n",
       "\n",
       "    .dataframe thead th {\n",
       "        text-align: right;\n",
       "    }\n",
       "</style>\n",
       "<table border=\"1\" class=\"dataframe\">\n",
       "  <thead>\n",
       "    <tr style=\"text-align: right;\">\n",
       "      <th></th>\n",
       "      <th>Name of Covered Entity</th>\n",
       "      <th>State</th>\n",
       "      <th>Covered Entity Type</th>\n",
       "      <th>Individuals Affected</th>\n",
       "      <th>Breach Submission Date</th>\n",
       "      <th>Type of Breach</th>\n",
       "      <th>Location of Breached Information</th>\n",
       "      <th>Business Associate Present</th>\n",
       "      <th>Web Description</th>\n",
       "    </tr>\n",
       "  </thead>\n",
       "  <tbody>\n",
       "    <tr>\n",
       "      <th>0</th>\n",
       "      <td>Brightline, Inc.</td>\n",
       "      <td>CA</td>\n",
       "      <td>Business Associate</td>\n",
       "      <td>8432</td>\n",
       "      <td>5/26/23</td>\n",
       "      <td>Hacking/IT Incident</td>\n",
       "      <td>Network Server</td>\n",
       "      <td>Yes</td>\n",
       "      <td>NaN</td>\n",
       "    </tr>\n",
       "    <tr>\n",
       "      <th>1</th>\n",
       "      <td>Iowa Department of Health and Human Services</td>\n",
       "      <td>IA</td>\n",
       "      <td>Health Plan</td>\n",
       "      <td>833</td>\n",
       "      <td>5/26/23</td>\n",
       "      <td>Unauthorized Access/Disclosure</td>\n",
       "      <td>Paper/Films</td>\n",
       "      <td>Yes</td>\n",
       "      <td>NaN</td>\n",
       "    </tr>\n",
       "    <tr>\n",
       "      <th>2</th>\n",
       "      <td>Lancaster Orthopedic Group</td>\n",
       "      <td>PA</td>\n",
       "      <td>Healthcare Provider</td>\n",
       "      <td>500</td>\n",
       "      <td>5/26/23</td>\n",
       "      <td>Hacking/IT Incident</td>\n",
       "      <td>Network Server</td>\n",
       "      <td>No</td>\n",
       "      <td>NaN</td>\n",
       "    </tr>\n",
       "    <tr>\n",
       "      <th>3</th>\n",
       "      <td>Harvard Pilgrim Health Care</td>\n",
       "      <td>MA</td>\n",
       "      <td>Health Plan</td>\n",
       "      <td>2550922</td>\n",
       "      <td>5/24/23</td>\n",
       "      <td>Hacking/IT Incident</td>\n",
       "      <td>Network Server</td>\n",
       "      <td>No</td>\n",
       "      <td>NaN</td>\n",
       "    </tr>\n",
       "    <tr>\n",
       "      <th>4</th>\n",
       "      <td>UI Community Home Care, a subsidiary of Univer...</td>\n",
       "      <td>IA</td>\n",
       "      <td>Healthcare Provider</td>\n",
       "      <td>67897</td>\n",
       "      <td>5/24/23</td>\n",
       "      <td>Hacking/IT Incident</td>\n",
       "      <td>Electronic Medical Record, Network Server</td>\n",
       "      <td>No</td>\n",
       "      <td>NaN</td>\n",
       "    </tr>\n",
       "    <tr>\n",
       "      <th>...</th>\n",
       "      <td>...</td>\n",
       "      <td>...</td>\n",
       "      <td>...</td>\n",
       "      <td>...</td>\n",
       "      <td>...</td>\n",
       "      <td>...</td>\n",
       "      <td>...</td>\n",
       "      <td>...</td>\n",
       "      <td>...</td>\n",
       "    </tr>\n",
       "    <tr>\n",
       "      <th>862</th>\n",
       "      <td>Wisconsin Department of Health Services</td>\n",
       "      <td>WI</td>\n",
       "      <td>Health Plan</td>\n",
       "      <td>2868</td>\n",
       "      <td>6/4/21</td>\n",
       "      <td>Hacking/IT Incident</td>\n",
       "      <td>Email</td>\n",
       "      <td>No</td>\n",
       "      <td>NaN</td>\n",
       "    </tr>\n",
       "    <tr>\n",
       "      <th>863</th>\n",
       "      <td>East Jordan Family Health Center</td>\n",
       "      <td>MI</td>\n",
       "      <td>Healthcare Provider</td>\n",
       "      <td>1151</td>\n",
       "      <td>6/4/21</td>\n",
       "      <td>Hacking/IT Incident</td>\n",
       "      <td>Network Server</td>\n",
       "      <td>Yes</td>\n",
       "      <td>NaN</td>\n",
       "    </tr>\n",
       "    <tr>\n",
       "      <th>864</th>\n",
       "      <td>AtriCure, Inc. Group Health Plan</td>\n",
       "      <td>OH</td>\n",
       "      <td>Health Plan</td>\n",
       "      <td>2487</td>\n",
       "      <td>6/4/21</td>\n",
       "      <td>Hacking/IT Incident</td>\n",
       "      <td>Email</td>\n",
       "      <td>No</td>\n",
       "      <td>NaN</td>\n",
       "    </tr>\n",
       "    <tr>\n",
       "      <th>865</th>\n",
       "      <td>Gastroenterology Consultants, PA</td>\n",
       "      <td>TX</td>\n",
       "      <td>Healthcare Provider</td>\n",
       "      <td>161698</td>\n",
       "      <td>3/19/21</td>\n",
       "      <td>Hacking/IT Incident</td>\n",
       "      <td>Network Server</td>\n",
       "      <td>No</td>\n",
       "      <td>NaN</td>\n",
       "    </tr>\n",
       "    <tr>\n",
       "      <th>866</th>\n",
       "      <td>The Home for the Little Wanderers</td>\n",
       "      <td>MA</td>\n",
       "      <td>Healthcare Provider</td>\n",
       "      <td>5396</td>\n",
       "      <td>2/26/21</td>\n",
       "      <td>Unauthorized Access/Disclosure</td>\n",
       "      <td>Email</td>\n",
       "      <td>No</td>\n",
       "      <td>NaN</td>\n",
       "    </tr>\n",
       "  </tbody>\n",
       "</table>\n",
       "<p>867 rows × 9 columns</p>\n",
       "</div>"
      ],
      "text/plain": [
       "                                Name of Covered Entity State  \\\n",
       "0                                     Brightline, Inc.    CA   \n",
       "1         Iowa Department of Health and Human Services    IA   \n",
       "2                           Lancaster Orthopedic Group    PA   \n",
       "3                          Harvard Pilgrim Health Care    MA   \n",
       "4    UI Community Home Care, a subsidiary of Univer...    IA   \n",
       "..                                                 ...   ...   \n",
       "862            Wisconsin Department of Health Services    WI   \n",
       "863                   East Jordan Family Health Center    MI   \n",
       "864                   AtriCure, Inc. Group Health Plan    OH   \n",
       "865                   Gastroenterology Consultants, PA    TX   \n",
       "866                  The Home for the Little Wanderers    MA   \n",
       "\n",
       "     Covered Entity Type  Individuals Affected Breach Submission Date  \\\n",
       "0     Business Associate                  8432                5/26/23   \n",
       "1            Health Plan                   833                5/26/23   \n",
       "2    Healthcare Provider                   500                5/26/23   \n",
       "3            Health Plan               2550922                5/24/23   \n",
       "4    Healthcare Provider                 67897                5/24/23   \n",
       "..                   ...                   ...                    ...   \n",
       "862          Health Plan                  2868                 6/4/21   \n",
       "863  Healthcare Provider                  1151                 6/4/21   \n",
       "864          Health Plan                  2487                 6/4/21   \n",
       "865  Healthcare Provider                161698                3/19/21   \n",
       "866  Healthcare Provider                  5396                2/26/21   \n",
       "\n",
       "                     Type of Breach  \\\n",
       "0               Hacking/IT Incident   \n",
       "1    Unauthorized Access/Disclosure   \n",
       "2               Hacking/IT Incident   \n",
       "3               Hacking/IT Incident   \n",
       "4               Hacking/IT Incident   \n",
       "..                              ...   \n",
       "862             Hacking/IT Incident   \n",
       "863             Hacking/IT Incident   \n",
       "864             Hacking/IT Incident   \n",
       "865             Hacking/IT Incident   \n",
       "866  Unauthorized Access/Disclosure   \n",
       "\n",
       "              Location of Breached Information Business Associate Present  \\\n",
       "0                               Network Server                        Yes   \n",
       "1                                  Paper/Films                        Yes   \n",
       "2                               Network Server                         No   \n",
       "3                               Network Server                         No   \n",
       "4    Electronic Medical Record, Network Server                         No   \n",
       "..                                         ...                        ...   \n",
       "862                                      Email                         No   \n",
       "863                             Network Server                        Yes   \n",
       "864                                      Email                         No   \n",
       "865                             Network Server                         No   \n",
       "866                                      Email                         No   \n",
       "\n",
       "     Web Description  \n",
       "0                NaN  \n",
       "1                NaN  \n",
       "2                NaN  \n",
       "3                NaN  \n",
       "4                NaN  \n",
       "..               ...  \n",
       "862              NaN  \n",
       "863              NaN  \n",
       "864              NaN  \n",
       "865              NaN  \n",
       "866              NaN  \n",
       "\n",
       "[867 rows x 9 columns]"
      ]
     },
     "execution_count": 26,
     "metadata": {},
     "output_type": "execute_result"
    }
   ],
   "source": [
    "df"
   ]
  },
  {
   "cell_type": "code",
   "execution_count": 27,
   "id": "68ac3d57",
   "metadata": {
    "scrolled": false
   },
   "outputs": [],
   "source": [
    "df.State = df.State.fillna('PR')"
   ]
  },
  {
   "cell_type": "markdown",
   "id": "54b4b07c",
   "metadata": {},
   "source": [
    "* I believe these nulls are for Puerto rico, which would explain why they do not have a state listed --  will leave in dataset "
   ]
  },
  {
   "cell_type": "code",
   "execution_count": 28,
   "id": "c512bb3d",
   "metadata": {},
   "outputs": [
    {
     "data": {
      "text/plain": [
       "52"
      ]
     },
     "execution_count": 28,
     "metadata": {},
     "output_type": "execute_result"
    }
   ],
   "source": [
    "df.State.nunique()"
   ]
  },
  {
   "cell_type": "markdown",
   "id": "06f67a67",
   "metadata": {},
   "source": [
    "* all states are listed and additional PR\n",
    "* Breach dates "
   ]
  },
  {
   "cell_type": "code",
   "execution_count": 29,
   "id": "cc655029",
   "metadata": {},
   "outputs": [],
   "source": [
    "# adjust column names - lowercase and underscored\n",
    "df.columns = df.columns.str.lower()\n",
    "df.columns = df.columns.str.replace(\" \", \"_\")"
   ]
  },
  {
   "cell_type": "code",
   "execution_count": 30,
   "id": "c5740912",
   "metadata": {},
   "outputs": [
    {
     "data": {
      "text/html": [
       "<div>\n",
       "<style scoped>\n",
       "    .dataframe tbody tr th:only-of-type {\n",
       "        vertical-align: middle;\n",
       "    }\n",
       "\n",
       "    .dataframe tbody tr th {\n",
       "        vertical-align: top;\n",
       "    }\n",
       "\n",
       "    .dataframe thead th {\n",
       "        text-align: right;\n",
       "    }\n",
       "</style>\n",
       "<table border=\"1\" class=\"dataframe\">\n",
       "  <thead>\n",
       "    <tr style=\"text-align: right;\">\n",
       "      <th></th>\n",
       "      <th>name_of_covered_entity</th>\n",
       "      <th>state</th>\n",
       "      <th>covered_entity_type</th>\n",
       "      <th>individuals_affected</th>\n",
       "      <th>breach_submission_date</th>\n",
       "      <th>type_of_breach</th>\n",
       "      <th>location_of_breached_information</th>\n",
       "      <th>business_associate_present</th>\n",
       "      <th>web_description</th>\n",
       "    </tr>\n",
       "  </thead>\n",
       "  <tbody>\n",
       "    <tr>\n",
       "      <th>0</th>\n",
       "      <td>Brightline, Inc.</td>\n",
       "      <td>CA</td>\n",
       "      <td>Business Associate</td>\n",
       "      <td>8432</td>\n",
       "      <td>5/26/23</td>\n",
       "      <td>Hacking/IT Incident</td>\n",
       "      <td>Network Server</td>\n",
       "      <td>Yes</td>\n",
       "      <td>NaN</td>\n",
       "    </tr>\n",
       "    <tr>\n",
       "      <th>1</th>\n",
       "      <td>Iowa Department of Health and Human Services</td>\n",
       "      <td>IA</td>\n",
       "      <td>Health Plan</td>\n",
       "      <td>833</td>\n",
       "      <td>5/26/23</td>\n",
       "      <td>Unauthorized Access/Disclosure</td>\n",
       "      <td>Paper/Films</td>\n",
       "      <td>Yes</td>\n",
       "      <td>NaN</td>\n",
       "    </tr>\n",
       "    <tr>\n",
       "      <th>2</th>\n",
       "      <td>Lancaster Orthopedic Group</td>\n",
       "      <td>PA</td>\n",
       "      <td>Healthcare Provider</td>\n",
       "      <td>500</td>\n",
       "      <td>5/26/23</td>\n",
       "      <td>Hacking/IT Incident</td>\n",
       "      <td>Network Server</td>\n",
       "      <td>No</td>\n",
       "      <td>NaN</td>\n",
       "    </tr>\n",
       "    <tr>\n",
       "      <th>3</th>\n",
       "      <td>Harvard Pilgrim Health Care</td>\n",
       "      <td>MA</td>\n",
       "      <td>Health Plan</td>\n",
       "      <td>2550922</td>\n",
       "      <td>5/24/23</td>\n",
       "      <td>Hacking/IT Incident</td>\n",
       "      <td>Network Server</td>\n",
       "      <td>No</td>\n",
       "      <td>NaN</td>\n",
       "    </tr>\n",
       "    <tr>\n",
       "      <th>4</th>\n",
       "      <td>UI Community Home Care, a subsidiary of Univer...</td>\n",
       "      <td>IA</td>\n",
       "      <td>Healthcare Provider</td>\n",
       "      <td>67897</td>\n",
       "      <td>5/24/23</td>\n",
       "      <td>Hacking/IT Incident</td>\n",
       "      <td>Electronic Medical Record, Network Server</td>\n",
       "      <td>No</td>\n",
       "      <td>NaN</td>\n",
       "    </tr>\n",
       "  </tbody>\n",
       "</table>\n",
       "</div>"
      ],
      "text/plain": [
       "                              name_of_covered_entity state  \\\n",
       "0                                   Brightline, Inc.    CA   \n",
       "1       Iowa Department of Health and Human Services    IA   \n",
       "2                         Lancaster Orthopedic Group    PA   \n",
       "3                        Harvard Pilgrim Health Care    MA   \n",
       "4  UI Community Home Care, a subsidiary of Univer...    IA   \n",
       "\n",
       "   covered_entity_type  individuals_affected breach_submission_date  \\\n",
       "0   Business Associate                  8432                5/26/23   \n",
       "1          Health Plan                   833                5/26/23   \n",
       "2  Healthcare Provider                   500                5/26/23   \n",
       "3          Health Plan               2550922                5/24/23   \n",
       "4  Healthcare Provider                 67897                5/24/23   \n",
       "\n",
       "                   type_of_breach           location_of_breached_information  \\\n",
       "0             Hacking/IT Incident                             Network Server   \n",
       "1  Unauthorized Access/Disclosure                                Paper/Films   \n",
       "2             Hacking/IT Incident                             Network Server   \n",
       "3             Hacking/IT Incident                             Network Server   \n",
       "4             Hacking/IT Incident  Electronic Medical Record, Network Server   \n",
       "\n",
       "  business_associate_present  web_description  \n",
       "0                        Yes              NaN  \n",
       "1                        Yes              NaN  \n",
       "2                         No              NaN  \n",
       "3                         No              NaN  \n",
       "4                         No              NaN  "
      ]
     },
     "execution_count": 30,
     "metadata": {},
     "output_type": "execute_result"
    }
   ],
   "source": [
    "df.head()"
   ]
  },
  {
   "cell_type": "code",
   "execution_count": 31,
   "id": "25f219e2",
   "metadata": {},
   "outputs": [
    {
     "ename": "AttributeError",
     "evalue": "Can only use .dt accessor with datetimelike values",
     "output_type": "error",
     "traceback": [
      "\u001b[0;31m---------------------------------------------------------------------------\u001b[0m",
      "\u001b[0;31mAttributeError\u001b[0m                            Traceback (most recent call last)",
      "\u001b[0;32m/var/folders/bf/lhpb5n_j1xj4msxy6nrm9h7h0000gn/T/ipykernel_41012/3598851484.py\u001b[0m in \u001b[0;36m<module>\u001b[0;34m\u001b[0m\n\u001b[0;32m----> 1\u001b[0;31m \u001b[0mdf\u001b[0m\u001b[0;34m[\u001b[0m\u001b[0;34m\"month\"\u001b[0m\u001b[0;34m]\u001b[0m \u001b[0;34m=\u001b[0m \u001b[0mdf\u001b[0m\u001b[0;34m.\u001b[0m\u001b[0mbreach_submission_date\u001b[0m\u001b[0;34m.\u001b[0m\u001b[0mdt\u001b[0m\u001b[0;34m.\u001b[0m\u001b[0mstrftime\u001b[0m\u001b[0;34m(\u001b[0m\u001b[0;34m\"%m\"\u001b[0m\u001b[0;34m)\u001b[0m\u001b[0;34m\u001b[0m\u001b[0;34m\u001b[0m\u001b[0m\n\u001b[0m",
      "\u001b[0;32m/usr/local/anaconda3/lib/python3.9/site-packages/pandas/core/generic.py\u001b[0m in \u001b[0;36m__getattr__\u001b[0;34m(self, name)\u001b[0m\n\u001b[1;32m   5573\u001b[0m         ):\n\u001b[1;32m   5574\u001b[0m             \u001b[0;32mreturn\u001b[0m \u001b[0mself\u001b[0m\u001b[0;34m[\u001b[0m\u001b[0mname\u001b[0m\u001b[0;34m]\u001b[0m\u001b[0;34m\u001b[0m\u001b[0;34m\u001b[0m\u001b[0m\n\u001b[0;32m-> 5575\u001b[0;31m         \u001b[0;32mreturn\u001b[0m \u001b[0mobject\u001b[0m\u001b[0;34m.\u001b[0m\u001b[0m__getattribute__\u001b[0m\u001b[0;34m(\u001b[0m\u001b[0mself\u001b[0m\u001b[0;34m,\u001b[0m \u001b[0mname\u001b[0m\u001b[0;34m)\u001b[0m\u001b[0;34m\u001b[0m\u001b[0;34m\u001b[0m\u001b[0m\n\u001b[0m\u001b[1;32m   5576\u001b[0m \u001b[0;34m\u001b[0m\u001b[0m\n\u001b[1;32m   5577\u001b[0m     \u001b[0;32mdef\u001b[0m \u001b[0m__setattr__\u001b[0m\u001b[0;34m(\u001b[0m\u001b[0mself\u001b[0m\u001b[0;34m,\u001b[0m \u001b[0mname\u001b[0m\u001b[0;34m:\u001b[0m \u001b[0mstr\u001b[0m\u001b[0;34m,\u001b[0m \u001b[0mvalue\u001b[0m\u001b[0;34m)\u001b[0m \u001b[0;34m->\u001b[0m \u001b[0;32mNone\u001b[0m\u001b[0;34m:\u001b[0m\u001b[0;34m\u001b[0m\u001b[0;34m\u001b[0m\u001b[0m\n",
      "\u001b[0;32m/usr/local/anaconda3/lib/python3.9/site-packages/pandas/core/accessor.py\u001b[0m in \u001b[0;36m__get__\u001b[0;34m(self, obj, cls)\u001b[0m\n\u001b[1;32m    180\u001b[0m             \u001b[0;31m# we're accessing the attribute of the class, i.e., Dataset.geo\u001b[0m\u001b[0;34m\u001b[0m\u001b[0;34m\u001b[0m\u001b[0m\n\u001b[1;32m    181\u001b[0m             \u001b[0;32mreturn\u001b[0m \u001b[0mself\u001b[0m\u001b[0;34m.\u001b[0m\u001b[0m_accessor\u001b[0m\u001b[0;34m\u001b[0m\u001b[0;34m\u001b[0m\u001b[0m\n\u001b[0;32m--> 182\u001b[0;31m         \u001b[0maccessor_obj\u001b[0m \u001b[0;34m=\u001b[0m \u001b[0mself\u001b[0m\u001b[0;34m.\u001b[0m\u001b[0m_accessor\u001b[0m\u001b[0;34m(\u001b[0m\u001b[0mobj\u001b[0m\u001b[0;34m)\u001b[0m\u001b[0;34m\u001b[0m\u001b[0;34m\u001b[0m\u001b[0m\n\u001b[0m\u001b[1;32m    183\u001b[0m         \u001b[0;31m# Replace the property with the accessor object. Inspired by:\u001b[0m\u001b[0;34m\u001b[0m\u001b[0;34m\u001b[0m\u001b[0m\n\u001b[1;32m    184\u001b[0m         \u001b[0;31m# https://www.pydanny.com/cached-property.html\u001b[0m\u001b[0;34m\u001b[0m\u001b[0;34m\u001b[0m\u001b[0m\n",
      "\u001b[0;32m/usr/local/anaconda3/lib/python3.9/site-packages/pandas/core/indexes/accessors.py\u001b[0m in \u001b[0;36m__new__\u001b[0;34m(cls, data)\u001b[0m\n\u001b[1;32m    507\u001b[0m             \u001b[0;32mreturn\u001b[0m \u001b[0mPeriodProperties\u001b[0m\u001b[0;34m(\u001b[0m\u001b[0mdata\u001b[0m\u001b[0;34m,\u001b[0m \u001b[0morig\u001b[0m\u001b[0;34m)\u001b[0m\u001b[0;34m\u001b[0m\u001b[0;34m\u001b[0m\u001b[0m\n\u001b[1;32m    508\u001b[0m \u001b[0;34m\u001b[0m\u001b[0m\n\u001b[0;32m--> 509\u001b[0;31m         \u001b[0;32mraise\u001b[0m \u001b[0mAttributeError\u001b[0m\u001b[0;34m(\u001b[0m\u001b[0;34m\"Can only use .dt accessor with datetimelike values\"\u001b[0m\u001b[0;34m)\u001b[0m\u001b[0;34m\u001b[0m\u001b[0;34m\u001b[0m\u001b[0m\n\u001b[0m",
      "\u001b[0;31mAttributeError\u001b[0m: Can only use .dt accessor with datetimelike values"
     ]
    }
   ],
   "source": [
    "df[\"month\"] = df.breach_submission_date.dt.strftime(\"%m\")"
   ]
  },
  {
   "cell_type": "code",
   "execution_count": 32,
   "id": "0b5942dc",
   "metadata": {},
   "outputs": [
    {
     "ename": "AttributeError",
     "evalue": "Can only use .dt accessor with datetimelike values",
     "output_type": "error",
     "traceback": [
      "\u001b[0;31m---------------------------------------------------------------------------\u001b[0m",
      "\u001b[0;31mAttributeError\u001b[0m                            Traceback (most recent call last)",
      "\u001b[0;32m/var/folders/bf/lhpb5n_j1xj4msxy6nrm9h7h0000gn/T/ipykernel_41012/4149678885.py\u001b[0m in \u001b[0;36m<module>\u001b[0;34m\u001b[0m\n\u001b[0;32m----> 1\u001b[0;31m \u001b[0mdf\u001b[0m\u001b[0;34m[\u001b[0m\u001b[0;34m\"year\"\u001b[0m\u001b[0;34m]\u001b[0m \u001b[0;34m=\u001b[0m \u001b[0mdf\u001b[0m\u001b[0;34m.\u001b[0m\u001b[0mbreach_submission_date\u001b[0m\u001b[0;34m.\u001b[0m\u001b[0mdt\u001b[0m\u001b[0;34m.\u001b[0m\u001b[0mstrftime\u001b[0m\u001b[0;34m(\u001b[0m\u001b[0;34m\"%Y\"\u001b[0m\u001b[0;34m)\u001b[0m\u001b[0;34m\u001b[0m\u001b[0;34m\u001b[0m\u001b[0m\n\u001b[0m",
      "\u001b[0;32m/usr/local/anaconda3/lib/python3.9/site-packages/pandas/core/generic.py\u001b[0m in \u001b[0;36m__getattr__\u001b[0;34m(self, name)\u001b[0m\n\u001b[1;32m   5573\u001b[0m         ):\n\u001b[1;32m   5574\u001b[0m             \u001b[0;32mreturn\u001b[0m \u001b[0mself\u001b[0m\u001b[0;34m[\u001b[0m\u001b[0mname\u001b[0m\u001b[0;34m]\u001b[0m\u001b[0;34m\u001b[0m\u001b[0;34m\u001b[0m\u001b[0m\n\u001b[0;32m-> 5575\u001b[0;31m         \u001b[0;32mreturn\u001b[0m \u001b[0mobject\u001b[0m\u001b[0;34m.\u001b[0m\u001b[0m__getattribute__\u001b[0m\u001b[0;34m(\u001b[0m\u001b[0mself\u001b[0m\u001b[0;34m,\u001b[0m \u001b[0mname\u001b[0m\u001b[0;34m)\u001b[0m\u001b[0;34m\u001b[0m\u001b[0;34m\u001b[0m\u001b[0m\n\u001b[0m\u001b[1;32m   5576\u001b[0m \u001b[0;34m\u001b[0m\u001b[0m\n\u001b[1;32m   5577\u001b[0m     \u001b[0;32mdef\u001b[0m \u001b[0m__setattr__\u001b[0m\u001b[0;34m(\u001b[0m\u001b[0mself\u001b[0m\u001b[0;34m,\u001b[0m \u001b[0mname\u001b[0m\u001b[0;34m:\u001b[0m \u001b[0mstr\u001b[0m\u001b[0;34m,\u001b[0m \u001b[0mvalue\u001b[0m\u001b[0;34m)\u001b[0m \u001b[0;34m->\u001b[0m \u001b[0;32mNone\u001b[0m\u001b[0;34m:\u001b[0m\u001b[0;34m\u001b[0m\u001b[0;34m\u001b[0m\u001b[0m\n",
      "\u001b[0;32m/usr/local/anaconda3/lib/python3.9/site-packages/pandas/core/accessor.py\u001b[0m in \u001b[0;36m__get__\u001b[0;34m(self, obj, cls)\u001b[0m\n\u001b[1;32m    180\u001b[0m             \u001b[0;31m# we're accessing the attribute of the class, i.e., Dataset.geo\u001b[0m\u001b[0;34m\u001b[0m\u001b[0;34m\u001b[0m\u001b[0m\n\u001b[1;32m    181\u001b[0m             \u001b[0;32mreturn\u001b[0m \u001b[0mself\u001b[0m\u001b[0;34m.\u001b[0m\u001b[0m_accessor\u001b[0m\u001b[0;34m\u001b[0m\u001b[0;34m\u001b[0m\u001b[0m\n\u001b[0;32m--> 182\u001b[0;31m         \u001b[0maccessor_obj\u001b[0m \u001b[0;34m=\u001b[0m \u001b[0mself\u001b[0m\u001b[0;34m.\u001b[0m\u001b[0m_accessor\u001b[0m\u001b[0;34m(\u001b[0m\u001b[0mobj\u001b[0m\u001b[0;34m)\u001b[0m\u001b[0;34m\u001b[0m\u001b[0;34m\u001b[0m\u001b[0m\n\u001b[0m\u001b[1;32m    183\u001b[0m         \u001b[0;31m# Replace the property with the accessor object. Inspired by:\u001b[0m\u001b[0;34m\u001b[0m\u001b[0;34m\u001b[0m\u001b[0m\n\u001b[1;32m    184\u001b[0m         \u001b[0;31m# https://www.pydanny.com/cached-property.html\u001b[0m\u001b[0;34m\u001b[0m\u001b[0;34m\u001b[0m\u001b[0m\n",
      "\u001b[0;32m/usr/local/anaconda3/lib/python3.9/site-packages/pandas/core/indexes/accessors.py\u001b[0m in \u001b[0;36m__new__\u001b[0;34m(cls, data)\u001b[0m\n\u001b[1;32m    507\u001b[0m             \u001b[0;32mreturn\u001b[0m \u001b[0mPeriodProperties\u001b[0m\u001b[0;34m(\u001b[0m\u001b[0mdata\u001b[0m\u001b[0;34m,\u001b[0m \u001b[0morig\u001b[0m\u001b[0;34m)\u001b[0m\u001b[0;34m\u001b[0m\u001b[0;34m\u001b[0m\u001b[0m\n\u001b[1;32m    508\u001b[0m \u001b[0;34m\u001b[0m\u001b[0m\n\u001b[0;32m--> 509\u001b[0;31m         \u001b[0;32mraise\u001b[0m \u001b[0mAttributeError\u001b[0m\u001b[0;34m(\u001b[0m\u001b[0;34m\"Can only use .dt accessor with datetimelike values\"\u001b[0m\u001b[0;34m)\u001b[0m\u001b[0;34m\u001b[0m\u001b[0;34m\u001b[0m\u001b[0m\n\u001b[0m",
      "\u001b[0;31mAttributeError\u001b[0m: Can only use .dt accessor with datetimelike values"
     ]
    }
   ],
   "source": [
    "df[\"year\"] = df.breach_submission_date.dt.strftime(\"%Y\")"
   ]
  },
  {
   "cell_type": "code",
   "execution_count": null,
   "id": "eb9b01f8",
   "metadata": {},
   "outputs": [],
   "source": [
    "df.year.unique()"
   ]
  },
  {
   "cell_type": "code",
   "execution_count": null,
   "id": "a2451251",
   "metadata": {},
   "outputs": [],
   "source": [
    "df.month.nunique()"
   ]
  },
  {
   "cell_type": "code",
   "execution_count": null,
   "id": "4dc36825",
   "metadata": {},
   "outputs": [],
   "source": [
    "df[df.year == '2021'].count()"
   ]
  },
  {
   "cell_type": "code",
   "execution_count": null,
   "id": "3d534fc5",
   "metadata": {},
   "outputs": [],
   "source": [
    "df[df.year == '2022'].count()"
   ]
  },
  {
   "cell_type": "code",
   "execution_count": null,
   "id": "ff6eda62",
   "metadata": {},
   "outputs": [],
   "source": [
    "df[df.year == '2023'].count()"
   ]
  },
  {
   "cell_type": "code",
   "execution_count": null,
   "id": "d99f0ac6",
   "metadata": {},
   "outputs": [],
   "source": [
    "df.location_of_breached_information.unique()"
   ]
  },
  {
   "cell_type": "code",
   "execution_count": null,
   "id": "7e8beb7d",
   "metadata": {},
   "outputs": [],
   "source": [
    "# create columns for multiple locations -- encoded \n",
    "\n",
    "\n",
    "# Check if commas exist in the 'Column1' and create a new column 'Has_Comma'\n",
    "df['multi_breached_location'] = df['location_of_breached_information'].str.contains(',')\n",
    "\n",
    "# Convert boolean values to 1 or 0\n",
    "df['multi_breached_location'] = df['multi_breached_location'].astype(int)\n",
    "\n",
    "# Display the modified DataFrame\n",
    "pd.DataFrame(df)"
   ]
  },
  {
   "cell_type": "code",
   "execution_count": null,
   "id": "eedaa542",
   "metadata": {},
   "outputs": [],
   "source": [
    "# will classify what type of attack based on other features \n",
    "df.type_of_breach.unique()"
   ]
  },
  {
   "cell_type": "code",
   "execution_count": null,
   "id": "0e14470d",
   "metadata": {},
   "outputs": [],
   "source": [
    "df[[\"month\", \"year\"]] = df[[\"month\", \"year\"]].astype(\"int\")"
   ]
  },
  {
   "cell_type": "code",
   "execution_count": null,
   "id": "cf9c933c",
   "metadata": {},
   "outputs": [],
   "source": [
    "# create dummies\n",
    "dummy_df = pd.get_dummies(df[[\"season\"]],\n",
    "                          drop_first=True)\n",
    "df = pd.concat([df, dummy_df], axis=1)\n",
    "# # rename columns\n",
    "# df = df[[\"customer_id\",\"partner_Yes\", \"dependents_Yes\", \"paperless_billing_Yes\", \"automatic_payment\", \"tenure\",\"churn_Yes\"]]\n",
    "\n",
    "df = df.rename(columns={\"season_Spring\": \"spring\", \"season_Summer\": \"summer\", \"season_Winter\": \"winter\"})\n",
    "# # df for modeling"
   ]
  },
  {
   "cell_type": "code",
   "execution_count": null,
   "id": "c9d8cecd",
   "metadata": {},
   "outputs": [],
   "source": [
    "df"
   ]
  },
  {
   "cell_type": "code",
   "execution_count": null,
   "id": "28288066",
   "metadata": {},
   "outputs": [],
   "source": [
    "# create seasons \n",
    "def get_season(month):\n",
    "    if month in [12, 1, 2]:\n",
    "        return 'Winter'\n",
    "    elif month in [3, 4, 5]:\n",
    "        return 'Spring'\n",
    "    elif month in [6, 7, 8]:\n",
    "        return 'Summer'\n",
    "    elif month in [9, 10, 11]:\n",
    "        return 'Autumn'\n",
    "    else:\n",
    "        return 'Unknown'"
   ]
  },
  {
   "cell_type": "code",
   "execution_count": null,
   "id": "37c14ecf",
   "metadata": {},
   "outputs": [],
   "source": [
    "# Apply the function to create a new 'Season' column\n",
    "df['season'] = df['month'].apply(get_season)"
   ]
  },
  {
   "cell_type": "code",
   "execution_count": null,
   "id": "1d573152",
   "metadata": {},
   "outputs": [],
   "source": [
    "df[df.season == \"Unknown\"]"
   ]
  },
  {
   "cell_type": "code",
   "execution_count": null,
   "id": "645db528",
   "metadata": {},
   "outputs": [],
   "source": [
    "target = \"type_of_breach\""
   ]
  },
  {
   "cell_type": "code",
   "execution_count": null,
   "id": "78c12ead",
   "metadata": {},
   "outputs": [],
   "source": [
    "def split_data(df, target_variable=\"type_of_breach\"):\n",
    "    '''\n",
    "    Takes in two arguments the dataframe name and the (\"target_variable\" - must be in string format) to stratify  and \n",
    "    return train, validate, test subset dataframes will output train, validate, and test in that order.\n",
    "    '''\n",
    "    train, test = train_test_split(df, #first split\n",
    "                                   test_size=.2, \n",
    "                                   random_state=123, \n",
    "                                   stratify= df[target_variable])\n",
    "    train, validate = train_test_split(train, #second split\n",
    "                                    test_size=.25, \n",
    "                                    random_state=123, \n",
    "                                    stratify=train[target_variable])\n",
    "    return train, validate, test"
   ]
  },
  {
   "cell_type": "code",
   "execution_count": null,
   "id": "24a0fcd6",
   "metadata": {},
   "outputs": [],
   "source": [
    "train, validate, test = split_data(df, target)"
   ]
  },
  {
   "cell_type": "code",
   "execution_count": null,
   "id": "c1d6b94c",
   "metadata": {},
   "outputs": [],
   "source": [
    "train"
   ]
  },
  {
   "cell_type": "code",
   "execution_count": null,
   "id": "ea87a28c",
   "metadata": {},
   "outputs": [],
   "source": [
    "# clean df\n",
    "df = w.clean_df()\n",
    "# split data\n",
    "train, validate, test = w.split_data(df)"
   ]
  },
  {
   "cell_type": "code",
   "execution_count": null,
   "id": "9bade41d",
   "metadata": {},
   "outputs": [],
   "source": []
  }
 ],
 "metadata": {
  "kernelspec": {
   "display_name": "Python 3 (ipykernel)",
   "language": "python",
   "name": "python3"
  },
  "language_info": {
   "codemirror_mode": {
    "name": "ipython",
    "version": 3
   },
   "file_extension": ".py",
   "mimetype": "text/x-python",
   "name": "python",
   "nbconvert_exporter": "python",
   "pygments_lexer": "ipython3",
   "version": "3.9.13"
  }
 },
 "nbformat": 4,
 "nbformat_minor": 5
}
